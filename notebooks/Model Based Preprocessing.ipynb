{
 "cells": [
  {
   "cell_type": "markdown",
   "metadata": {},
   "source": [
    "### Model-Based Preprocessing"
   ]
  },
  {
   "cell_type": "code",
   "execution_count": 43,
   "metadata": {},
   "outputs": [
    {
     "data": {
      "text/html": [
       "<div>\n",
       "<style scoped>\n",
       "    .dataframe tbody tr th:only-of-type {\n",
       "        vertical-align: middle;\n",
       "    }\n",
       "\n",
       "    .dataframe tbody tr th {\n",
       "        vertical-align: top;\n",
       "    }\n",
       "\n",
       "    .dataframe thead th {\n",
       "        text-align: right;\n",
       "    }\n",
       "</style>\n",
       "<table border=\"1\" class=\"dataframe\">\n",
       "  <thead>\n",
       "    <tr style=\"text-align: right;\">\n",
       "      <th></th>\n",
       "      <th>Unnamed: 0</th>\n",
       "      <th>MAP</th>\n",
       "      <th>diastolic_bp</th>\n",
       "      <th>systolic_bp</th>\n",
       "      <th>urine</th>\n",
       "      <th>ALT</th>\n",
       "      <th>AST</th>\n",
       "      <th>PO2</th>\n",
       "      <th>lactic_acid</th>\n",
       "      <th>serum_creatinine</th>\n",
       "      <th>...</th>\n",
       "      <th>GCS_total</th>\n",
       "      <th>urine_m</th>\n",
       "      <th>ALT_AST_m</th>\n",
       "      <th>FiO2_m</th>\n",
       "      <th>GCS_total_m</th>\n",
       "      <th>PO2_m</th>\n",
       "      <th>lactic_acid_m</th>\n",
       "      <th>serum_creatinine_m</th>\n",
       "      <th>PatientID</th>\n",
       "      <th>Timepoints</th>\n",
       "    </tr>\n",
       "  </thead>\n",
       "  <tbody>\n",
       "    <tr>\n",
       "      <th>0</th>\n",
       "      <td>0</td>\n",
       "      <td>67.964940</td>\n",
       "      <td>56.709198</td>\n",
       "      <td>144.578430</td>\n",
       "      <td>241.00052</td>\n",
       "      <td>24.226444</td>\n",
       "      <td>23.811718</td>\n",
       "      <td>83.46306</td>\n",
       "      <td>1.477299</td>\n",
       "      <td>0.893153</td>\n",
       "      <td>...</td>\n",
       "      <td>15</td>\n",
       "      <td>0</td>\n",
       "      <td>0</td>\n",
       "      <td>0</td>\n",
       "      <td>1</td>\n",
       "      <td>0</td>\n",
       "      <td>0</td>\n",
       "      <td>0</td>\n",
       "      <td>0</td>\n",
       "      <td>0</td>\n",
       "    </tr>\n",
       "    <tr>\n",
       "      <th>1</th>\n",
       "      <td>1</td>\n",
       "      <td>63.603493</td>\n",
       "      <td>53.635162</td>\n",
       "      <td>143.283780</td>\n",
       "      <td>230.52171</td>\n",
       "      <td>23.933348</td>\n",
       "      <td>30.188170</td>\n",
       "      <td>120.01681</td>\n",
       "      <td>1.733099</td>\n",
       "      <td>0.862924</td>\n",
       "      <td>...</td>\n",
       "      <td>15</td>\n",
       "      <td>0</td>\n",
       "      <td>0</td>\n",
       "      <td>0</td>\n",
       "      <td>0</td>\n",
       "      <td>0</td>\n",
       "      <td>0</td>\n",
       "      <td>0</td>\n",
       "      <td>0</td>\n",
       "      <td>1</td>\n",
       "    </tr>\n",
       "    <tr>\n",
       "      <th>2</th>\n",
       "      <td>2</td>\n",
       "      <td>65.750670</td>\n",
       "      <td>56.904236</td>\n",
       "      <td>143.534000</td>\n",
       "      <td>217.76741</td>\n",
       "      <td>21.803823</td>\n",
       "      <td>26.318861</td>\n",
       "      <td>84.16420</td>\n",
       "      <td>1.375228</td>\n",
       "      <td>0.819521</td>\n",
       "      <td>...</td>\n",
       "      <td>15</td>\n",
       "      <td>0</td>\n",
       "      <td>0</td>\n",
       "      <td>0</td>\n",
       "      <td>0</td>\n",
       "      <td>0</td>\n",
       "      <td>0</td>\n",
       "      <td>0</td>\n",
       "      <td>0</td>\n",
       "      <td>2</td>\n",
       "    </tr>\n",
       "    <tr>\n",
       "      <th>3</th>\n",
       "      <td>3</td>\n",
       "      <td>44.684580</td>\n",
       "      <td>41.952940</td>\n",
       "      <td>117.236534</td>\n",
       "      <td>291.90466</td>\n",
       "      <td>33.613720</td>\n",
       "      <td>24.136852</td>\n",
       "      <td>102.35325</td>\n",
       "      <td>1.252799</td>\n",
       "      <td>0.754315</td>\n",
       "      <td>...</td>\n",
       "      <td>15</td>\n",
       "      <td>1</td>\n",
       "      <td>0</td>\n",
       "      <td>0</td>\n",
       "      <td>0</td>\n",
       "      <td>0</td>\n",
       "      <td>0</td>\n",
       "      <td>0</td>\n",
       "      <td>0</td>\n",
       "      <td>3</td>\n",
       "    </tr>\n",
       "    <tr>\n",
       "      <th>4</th>\n",
       "      <td>4</td>\n",
       "      <td>61.486233</td>\n",
       "      <td>63.960106</td>\n",
       "      <td>111.537060</td>\n",
       "      <td>435.26230</td>\n",
       "      <td>45.407272</td>\n",
       "      <td>23.192320</td>\n",
       "      <td>63.73771</td>\n",
       "      <td>1.845126</td>\n",
       "      <td>1.155209</td>\n",
       "      <td>...</td>\n",
       "      <td>15</td>\n",
       "      <td>0</td>\n",
       "      <td>0</td>\n",
       "      <td>0</td>\n",
       "      <td>1</td>\n",
       "      <td>0</td>\n",
       "      <td>0</td>\n",
       "      <td>0</td>\n",
       "      <td>0</td>\n",
       "      <td>4</td>\n",
       "    </tr>\n",
       "  </tbody>\n",
       "</table>\n",
       "<p>5 rows × 23 columns</p>\n",
       "</div>"
      ],
      "text/plain": [
       "   Unnamed: 0        MAP  diastolic_bp  systolic_bp      urine        ALT  \\\n",
       "0           0  67.964940     56.709198   144.578430  241.00052  24.226444   \n",
       "1           1  63.603493     53.635162   143.283780  230.52171  23.933348   \n",
       "2           2  65.750670     56.904236   143.534000  217.76741  21.803823   \n",
       "3           3  44.684580     41.952940   117.236534  291.90466  33.613720   \n",
       "4           4  61.486233     63.960106   111.537060  435.26230  45.407272   \n",
       "\n",
       "         AST        PO2  lactic_acid  serum_creatinine  ...  GCS_total  \\\n",
       "0  23.811718   83.46306     1.477299          0.893153  ...         15   \n",
       "1  30.188170  120.01681     1.733099          0.862924  ...         15   \n",
       "2  26.318861   84.16420     1.375228          0.819521  ...         15   \n",
       "3  24.136852  102.35325     1.252799          0.754315  ...         15   \n",
       "4  23.192320   63.73771     1.845126          1.155209  ...         15   \n",
       "\n",
       "   urine_m  ALT_AST_m  FiO2_m  GCS_total_m  PO2_m  lactic_acid_m  \\\n",
       "0        0          0       0            1      0              0   \n",
       "1        0          0       0            0      0              0   \n",
       "2        0          0       0            0      0              0   \n",
       "3        1          0       0            0      0              0   \n",
       "4        0          0       0            1      0              0   \n",
       "\n",
       "   serum_creatinine_m  PatientID  Timepoints  \n",
       "0                   0          0           0  \n",
       "1                   0          0           1  \n",
       "2                   0          0           2  \n",
       "3                   0          0           3  \n",
       "4                   0          0           4  \n",
       "\n",
       "[5 rows x 23 columns]"
      ]
     },
     "execution_count": 43,
     "metadata": {},
     "output_type": "execute_result"
    }
   ],
   "source": [
    "import pandas as pd\n",
    "\n",
    "# load data\n",
    "df = pd.read_csv('Data/C001_FakeHypotension.csv')\n",
    "df.head()"
   ]
  },
  {
   "cell_type": "code",
   "execution_count": null,
   "metadata": {},
   "outputs": [],
   "source": [
    "# columns for states and actions\n",
    "action_columns = [\"fluid_boluses\", \"vasopressors\"]\n",
    "state_columns = [\"MAP\", \"diastolic_bp\", \"systolic_bp\", \"urine\", \"ALT\", \"AST\", \"PO2\", \"lactic_acid\", \"serum_creatinine\", \"FiO2\", \n",
    "          \"GCS_total\"]"
   ]
  },
  {
   "cell_type": "code",
   "execution_count": 45,
   "metadata": {},
   "outputs": [
    {
     "data": {
      "image/png": "[encoded data removed]",
      "text/plain": [
       "<Figure size 500x300 with 1 Axes>"
      ]
     },
     "metadata": {},
     "output_type": "display_data"
    },
    {
     "name": "stdout",
     "output_type": "stream",
     "text": [
      "Min: 19.392052\n",
      "Max: 122.63299\n",
      "Average: 65.24478577575661\n",
      "Standard Deviation: 9.331872470777064\n",
      "\n",
      "\n"
     ]
    },
    {
     "data": {
      "image/png": "[encoded data removed]",
      "text/plain": [
       "<Figure size 500x300 with 1 Axes>"
      ]
     },
     "metadata": {},
     "output_type": "display_data"
    },
    {
     "name": "stdout",
     "output_type": "stream",
     "text": [
      "Min: 16.42613\n",
      "Max: 128.29489\n",
      "Average: 54.53406438683396\n",
      "Standard Deviation: 9.393272237571988\n",
      "\n",
      "\n"
     ]
    },
    {
     "data": {
      "image/png": "[encoded data removed]",
      "text/plain": [
       "<Figure size 500x300 with 1 Axes>"
      ]
     },
     "metadata": {},
     "output_type": "display_data"
    },
    {
     "name": "stdout",
     "output_type": "stream",
     "text": [
      "Min: 37.250717\n",
      "Max: 186.29512\n",
      "Average: 112.61721504659526\n",
      "Standard Deviation: 14.001782821968984\n",
      "\n",
      "\n"
     ]
    },
    {
     "data": {
      "image/png": "[encoded data removed]",
      "text/plain": [
       "<Figure size 500x300 with 1 Axes>"
      ]
     },
     "metadata": {},
     "output_type": "display_data"
    },
    {
     "name": "stdout",
     "output_type": "stream",
     "text": [
      "Min: 6.7349668\n",
      "Max: 2419.2454\n",
      "Average: 134.82951059155636\n",
      "Standard Deviation: 106.49927603971628\n",
      "\n",
      "\n"
     ]
    },
    {
     "data": {
      "image/png": "[encoded data removed]",
      "text/plain": [
       "<Figure size 500x300 with 1 Axes>"
      ]
     },
     "metadata": {},
     "output_type": "display_data"
    },
    {
     "name": "stdout",
     "output_type": "stream",
     "text": [
      "Min: 4.4271393\n",
      "Max: 565.5222\n",
      "Average: 39.188745477165924\n",
      "Standard Deviation: 23.977531374662952\n",
      "\n",
      "\n"
     ]
    },
    {
     "data": {
      "image/png": "[encoded data removed]",
      "text/plain": [
       "<Figure size 500x300 with 1 Axes>"
      ]
     },
     "metadata": {},
     "output_type": "display_data"
    },
    {
     "name": "stdout",
     "output_type": "stream",
     "text": [
      "Min: 8.623325\n",
      "Max: 749.3293\n",
      "Average: 59.1528828795956\n",
      "Standard Deviation: 41.45965721865672\n",
      "\n",
      "\n"
     ]
    },
    {
     "data": {
      "image/png": "[encoded data removed]",
      "text/plain": [
       "<Figure size 500x300 with 1 Axes>"
      ]
     },
     "metadata": {},
     "output_type": "display_data"
    },
    {
     "name": "stdout",
     "output_type": "stream",
     "text": [
      "Min: 36.558357\n",
      "Max: 381.82248\n",
      "Average: 104.41759479013746\n",
      "Standard Deviation: 21.525885548333907\n",
      "\n",
      "\n"
     ]
    },
    {
     "data": {
      "image/png": "[encoded data removed]",
      "text/plain": [
       "<Figure size 500x300 with 1 Axes>"
      ]
     },
     "metadata": {},
     "output_type": "display_data"
    },
    {
     "name": "stdout",
     "output_type": "stream",
     "text": [
      "Min: 0.4954983\n",
      "Max: 5.766668\n",
      "Average: 1.5963214295118817\n",
      "Standard Deviation: 0.46051106802228264\n",
      "\n",
      "\n"
     ]
    },
    {
     "data": {
      "image/png": "[encoded data removed]",
      "text/plain": [
       "<Figure size 500x300 with 1 Axes>"
      ]
     },
     "metadata": {},
     "output_type": "display_data"
    },
    {
     "name": "stdout",
     "output_type": "stream",
     "text": [
      "Min: 0.1529864\n",
      "Max: 7.5403175\n",
      "Average: 1.2977292914797527\n",
      "Standard Deviation: 0.6876770453218878\n",
      "\n",
      "\n"
     ]
    },
    {
     "data": {
      "image/png": "[encoded data removed]",
      "text/plain": [
       "<Figure size 500x300 with 1 Axes>"
      ]
     },
     "metadata": {},
     "output_type": "display_data"
    },
    {
     "name": "stdout",
     "output_type": "stream",
     "text": [
      "Min: 0.0\n",
      "Max: 1.0\n",
      "Average: 0.5529108056265984\n",
      "Standard Deviation: 0.17336343333568324\n",
      "\n",
      "\n"
     ]
    },
    {
     "data": {
      "image/png": "[encoded data removed]",
      "text/plain": [
       "<Figure size 500x300 with 1 Axes>"
      ]
     },
     "metadata": {},
     "output_type": "display_data"
    },
    {
     "name": "stdout",
     "output_type": "stream",
     "text": [
      "Min: 3\n",
      "Max: 15\n",
      "Average: 12.645012787723784\n",
      "Standard Deviation: 3.8470145776911187\n",
      "\n",
      "\n"
     ]
    },
    {
     "data": {
      "image/png": "[encoded data removed]",
      "text/plain": [
       "<Figure size 500x300 with 1 Axes>"
      ]
     },
     "metadata": {},
     "output_type": "display_data"
    },
    {
     "name": "stdout",
     "output_type": "stream",
     "text": [
      "Min: 0\n",
      "Max: 1000\n",
      "Average: 17.42593776641091\n",
      "Standard Deviation: 113.81422903526308\n",
      "\n",
      "\n"
     ]
    },
    {
     "data": {
      "image/png": "[encoded data removed]",
      "text/plain": [
       "<Figure size 500x300 with 1 Axes>"
      ]
     },
     "metadata": {},
     "output_type": "display_data"
    },
    {
     "name": "stdout",
     "output_type": "stream",
     "text": [
      "Min: 0.0\n",
      "Max: 20.28\n",
      "Average: 1.0870678583173485\n",
      "Standard Deviation: 4.145758108249978\n",
      "\n",
      "\n"
     ]
    }
   ],
   "source": [
    "import matplotlib.pyplot as plt\n",
    "\n",
    "for column in state_columns + action_columns:\n",
    "    plt.figure(figsize=(5, 3))\n",
    "    plt.hist(df[column], bins=100)\n",
    "    plt.title(column, size=11)\n",
    "    plt.tick_params(labelsize=8)\n",
    "    plt.show()\n",
    "    min_value = df[column].min()\n",
    "    max_value = df[column].max()\n",
    "    average = df[column].mean()\n",
    "    std_dev = df[column].std()\n",
    "\n",
    "    print(f'Min: {min_value}')\n",
    "    print(f'Max: {max_value}')\n",
    "    print(f'Average: {average}')\n",
    "    print(f'Standard Deviation: {std_dev}')\n",
    "    print(\"\\n\")   "
   ]
  },
  {
   "cell_type": "code",
   "execution_count": 46,
   "metadata": {},
   "outputs": [],
   "source": [
    "# bin the variables\n",
    "binned_df = pd.DataFrame()\n",
    "\n",
    "map_bins = [-1, 55, 60, 65, 130] # 0: (0,55), 1: (55,60), 2: (60,65), 3:(>65)\n",
    "binned_df['MAP'] = pd.cut(df['MAP'], bins=map_bins, labels=['Level 1', 'Level 2', 'Level 3', 'Level 4'])\n",
    "\n",
    "dbp_bins = [-1, 40, 60, 80, 130]\n",
    "binned_df['diastolic_bp'] = pd.cut(df['diastolic_bp'], bins=dbp_bins, labels=['Severely Low', 'Low', 'Normal', 'High'])\n",
    "\n",
    "sbp_bins = [-1, 90, 120, 200]\n",
    "binned_df['systolic_bp'] = pd.cut(df['systolic_bp'], bins=sbp_bins, labels=['Low', 'Normal', 'High'])\n",
    "\n",
    "urine_bins = [-1, 30, 83, 2500] # 0: (0,30), 1: (30, 83), 2: (83, 2500)\n",
    "binned_df['urine'] = pd.cut(df['urine'], bins=urine_bins, labels=['Severely Low', 'Low', 'Normal'])\n",
    "\n",
    "alt_bins = [-1, 40, 120, 300, 1000]\n",
    "binned_df['ALT'] = pd.cut(df['ALT'], bins=alt_bins, labels=['Normal', 'Slightly High', 'High', 'Severely High'])\n",
    "\n",
    "ast_bins = [-1, 40, 120, 300, 1000]\n",
    "binned_df['AST'] = pd.cut(df['AST'], bins=ast_bins, labels=['Normal', 'Slightly High', 'High', 'Severely High'])\n",
    "\n",
    "pf_bins = [-1, 100, 200, 300, 1000]\n",
    "binned_df['p_f_ratio'] = pd.cut(df['PO2'] / df['FiO2'], bins=pf_bins, labels=['Level 1', 'Level 2', 'Level 3', 'Level 4'])\n",
    "\n",
    "la_bins = [-1, 2.2, 4, 6]\n",
    "binned_df['lactic_acid'] = pd.cut(df['lactic_acid'], bins=la_bins, labels=['Normal', 'High', 'Severely High'])\n",
    "\n",
    "sc_bins = [-1, 1.2, 2, 3.5, 5, 8]\n",
    "binned_df['serum_creatinine'] = pd.cut(df['serum_creatinine'], bins=sc_bins, labels=['Level 1', 'Level 2', 'Level 3', 'Level 4', 'Level 5'])\n",
    "\n",
    "gcs_bins = [0, 7, 10, 14, 15]\n",
    "binned_df['GCS_total'] = pd.cut(df['GCS_total'], bins=gcs_bins, labels=['Level 1', 'Level 2', 'Level 3', 'Level 4'])\n",
    "\n",
    "boluses_bins = [-1, 200, 400, 600, 1001]\n",
    "binned_df['fluid_boluses'] = pd.cut(df['fluid_boluses'], bins=boluses_bins, labels=['Level 1', 'Level 2', 'Level 3', 'Level 4'])\n",
    "\n",
    "vasopressors_bins = [-1, 1e-07, 1e-05, 8.5, 21]\n",
    "binned_df['vasopressors'] = pd.cut(df['vasopressors'], bins=vasopressors_bins, labels=['Level 1', 'Level 2', 'Level 3', 'Level 4'])\n"
   ]
  },
  {
   "cell_type": "code",
   "execution_count": 47,
   "metadata": {},
   "outputs": [],
   "source": [
    "# add binary indicators\n",
    "for col in state_columns:\n",
    "    if col in [\"PO2\", \"FiO2\"]:\n",
    "        continue\n",
    "    if col not in binned_df.columns.tolist():\n",
    "        binned_df[col] = df[col]"
   ]
  },
  {
   "cell_type": "code",
   "execution_count": 48,
   "metadata": {},
   "outputs": [
    {
     "name": "stdout",
     "output_type": "stream",
     "text": [
      "[0, 250, 500, 1000]\n",
      "[0.0, 1e-06, 8.4, 20.28]\n"
     ]
    }
   ],
   "source": [
    "print(sorted(df['fluid_boluses'].unique()))\n",
    "print(sorted(df['vasopressors'].unique()))"
   ]
  },
  {
   "cell_type": "code",
   "execution_count": 49,
   "metadata": {},
   "outputs": [
    {
     "data": {
      "text/html": [
       "<div>\n",
       "<style scoped>\n",
       "    .dataframe tbody tr th:only-of-type {\n",
       "        vertical-align: middle;\n",
       "    }\n",
       "\n",
       "    .dataframe tbody tr th {\n",
       "        vertical-align: top;\n",
       "    }\n",
       "\n",
       "    .dataframe thead th {\n",
       "        text-align: right;\n",
       "    }\n",
       "</style>\n",
       "<table border=\"1\" class=\"dataframe\">\n",
       "  <thead>\n",
       "    <tr style=\"text-align: right;\">\n",
       "      <th></th>\n",
       "      <th>MAP</th>\n",
       "      <th>diastolic_bp</th>\n",
       "      <th>systolic_bp</th>\n",
       "      <th>urine</th>\n",
       "      <th>ALT</th>\n",
       "      <th>AST</th>\n",
       "      <th>p_f_ratio</th>\n",
       "      <th>lactic_acid</th>\n",
       "      <th>serum_creatinine</th>\n",
       "      <th>GCS_total</th>\n",
       "      <th>fluid_boluses</th>\n",
       "      <th>vasopressors</th>\n",
       "    </tr>\n",
       "  </thead>\n",
       "  <tbody>\n",
       "    <tr>\n",
       "      <th>0</th>\n",
       "      <td>Level 4</td>\n",
       "      <td>Low</td>\n",
       "      <td>High</td>\n",
       "      <td>Normal</td>\n",
       "      <td>Normal</td>\n",
       "      <td>Normal</td>\n",
       "      <td>Level 1</td>\n",
       "      <td>Normal</td>\n",
       "      <td>Level 1</td>\n",
       "      <td>Level 4</td>\n",
       "      <td>Level 1</td>\n",
       "      <td>Level 1</td>\n",
       "    </tr>\n",
       "    <tr>\n",
       "      <th>1</th>\n",
       "      <td>Level 3</td>\n",
       "      <td>Low</td>\n",
       "      <td>High</td>\n",
       "      <td>Normal</td>\n",
       "      <td>Normal</td>\n",
       "      <td>Normal</td>\n",
       "      <td>Level 2</td>\n",
       "      <td>Normal</td>\n",
       "      <td>Level 1</td>\n",
       "      <td>Level 4</td>\n",
       "      <td>Level 1</td>\n",
       "      <td>Level 1</td>\n",
       "    </tr>\n",
       "    <tr>\n",
       "      <th>2</th>\n",
       "      <td>Level 4</td>\n",
       "      <td>Low</td>\n",
       "      <td>High</td>\n",
       "      <td>Normal</td>\n",
       "      <td>Normal</td>\n",
       "      <td>Normal</td>\n",
       "      <td>Level 1</td>\n",
       "      <td>Normal</td>\n",
       "      <td>Level 1</td>\n",
       "      <td>Level 4</td>\n",
       "      <td>Level 1</td>\n",
       "      <td>Level 1</td>\n",
       "    </tr>\n",
       "    <tr>\n",
       "      <th>3</th>\n",
       "      <td>Level 1</td>\n",
       "      <td>Low</td>\n",
       "      <td>Normal</td>\n",
       "      <td>Normal</td>\n",
       "      <td>Normal</td>\n",
       "      <td>Normal</td>\n",
       "      <td>Level 2</td>\n",
       "      <td>Normal</td>\n",
       "      <td>Level 1</td>\n",
       "      <td>Level 4</td>\n",
       "      <td>Level 1</td>\n",
       "      <td>Level 1</td>\n",
       "    </tr>\n",
       "    <tr>\n",
       "      <th>4</th>\n",
       "      <td>Level 3</td>\n",
       "      <td>Normal</td>\n",
       "      <td>Normal</td>\n",
       "      <td>Normal</td>\n",
       "      <td>Slightly High</td>\n",
       "      <td>Normal</td>\n",
       "      <td>Level 1</td>\n",
       "      <td>Normal</td>\n",
       "      <td>Level 1</td>\n",
       "      <td>Level 4</td>\n",
       "      <td>Level 1</td>\n",
       "      <td>Level 1</td>\n",
       "    </tr>\n",
       "  </tbody>\n",
       "</table>\n",
       "</div>"
      ],
      "text/plain": [
       "       MAP diastolic_bp systolic_bp   urine            ALT     AST p_f_ratio  \\\n",
       "0  Level 4          Low        High  Normal         Normal  Normal   Level 1   \n",
       "1  Level 3          Low        High  Normal         Normal  Normal   Level 2   \n",
       "2  Level 4          Low        High  Normal         Normal  Normal   Level 1   \n",
       "3  Level 1          Low      Normal  Normal         Normal  Normal   Level 2   \n",
       "4  Level 3       Normal      Normal  Normal  Slightly High  Normal   Level 1   \n",
       "\n",
       "  lactic_acid serum_creatinine GCS_total fluid_boluses vasopressors  \n",
       "0      Normal          Level 1   Level 4       Level 1      Level 1  \n",
       "1      Normal          Level 1   Level 4       Level 1      Level 1  \n",
       "2      Normal          Level 1   Level 4       Level 1      Level 1  \n",
       "3      Normal          Level 1   Level 4       Level 1      Level 1  \n",
       "4      Normal          Level 1   Level 4       Level 1      Level 1  "
      ]
     },
     "execution_count": 49,
     "metadata": {},
     "output_type": "execute_result"
    }
   ],
   "source": [
    "# check data\n",
    "binned_df.head()"
   ]
  },
  {
   "cell_type": "code",
   "execution_count": 50,
   "metadata": {},
   "outputs": [],
   "source": [
    "processed_df = pd.DataFrame()\n",
    "\n",
    "for column in binned_df.columns.tolist():\n",
    "    processed_df[column] = pd.Categorical(binned_df[column]).codes\n",
    "\n",
    "#time series\n",
    "processed_df['PatientID'] = df['PatientID']\n",
    "processed_df['Timepoints'] = df['Timepoints']"
   ]
  },
  {
   "cell_type": "code",
   "execution_count": 51,
   "metadata": {},
   "outputs": [
    {
     "data": {
      "text/plain": [
       "2    122051\n",
       "1     60615\n",
       "0      5014\n",
       "Name: urine, dtype: int64"
      ]
     },
     "execution_count": 51,
     "metadata": {},
     "output_type": "execute_result"
    }
   ],
   "source": [
    "processed_df['urine'].value_counts()"
   ]
  },
  {
   "cell_type": "code",
   "execution_count": 52,
   "metadata": {},
   "outputs": [
    {
     "data": {
      "text/html": [
       "<div>\n",
       "<style scoped>\n",
       "    .dataframe tbody tr th:only-of-type {\n",
       "        vertical-align: middle;\n",
       "    }\n",
       "\n",
       "    .dataframe tbody tr th {\n",
       "        vertical-align: top;\n",
       "    }\n",
       "\n",
       "    .dataframe thead th {\n",
       "        text-align: right;\n",
       "    }\n",
       "</style>\n",
       "<table border=\"1\" class=\"dataframe\">\n",
       "  <thead>\n",
       "    <tr style=\"text-align: right;\">\n",
       "      <th></th>\n",
       "      <th>MAP</th>\n",
       "      <th>diastolic_bp</th>\n",
       "      <th>systolic_bp</th>\n",
       "      <th>urine</th>\n",
       "      <th>ALT</th>\n",
       "      <th>AST</th>\n",
       "      <th>p_f_ratio</th>\n",
       "      <th>lactic_acid</th>\n",
       "      <th>serum_creatinine</th>\n",
       "      <th>GCS_total</th>\n",
       "      <th>fluid_boluses</th>\n",
       "      <th>vasopressors</th>\n",
       "      <th>PatientID</th>\n",
       "      <th>Timepoints</th>\n",
       "    </tr>\n",
       "  </thead>\n",
       "  <tbody>\n",
       "    <tr>\n",
       "      <th>0</th>\n",
       "      <td>3</td>\n",
       "      <td>1</td>\n",
       "      <td>2</td>\n",
       "      <td>2</td>\n",
       "      <td>0</td>\n",
       "      <td>0</td>\n",
       "      <td>0</td>\n",
       "      <td>0</td>\n",
       "      <td>0</td>\n",
       "      <td>3</td>\n",
       "      <td>0</td>\n",
       "      <td>0</td>\n",
       "      <td>0</td>\n",
       "      <td>0</td>\n",
       "    </tr>\n",
       "    <tr>\n",
       "      <th>1</th>\n",
       "      <td>2</td>\n",
       "      <td>1</td>\n",
       "      <td>2</td>\n",
       "      <td>2</td>\n",
       "      <td>0</td>\n",
       "      <td>0</td>\n",
       "      <td>1</td>\n",
       "      <td>0</td>\n",
       "      <td>0</td>\n",
       "      <td>3</td>\n",
       "      <td>0</td>\n",
       "      <td>0</td>\n",
       "      <td>0</td>\n",
       "      <td>1</td>\n",
       "    </tr>\n",
       "    <tr>\n",
       "      <th>2</th>\n",
       "      <td>3</td>\n",
       "      <td>1</td>\n",
       "      <td>2</td>\n",
       "      <td>2</td>\n",
       "      <td>0</td>\n",
       "      <td>0</td>\n",
       "      <td>0</td>\n",
       "      <td>0</td>\n",
       "      <td>0</td>\n",
       "      <td>3</td>\n",
       "      <td>0</td>\n",
       "      <td>0</td>\n",
       "      <td>0</td>\n",
       "      <td>2</td>\n",
       "    </tr>\n",
       "    <tr>\n",
       "      <th>3</th>\n",
       "      <td>0</td>\n",
       "      <td>1</td>\n",
       "      <td>1</td>\n",
       "      <td>2</td>\n",
       "      <td>0</td>\n",
       "      <td>0</td>\n",
       "      <td>1</td>\n",
       "      <td>0</td>\n",
       "      <td>0</td>\n",
       "      <td>3</td>\n",
       "      <td>0</td>\n",
       "      <td>0</td>\n",
       "      <td>0</td>\n",
       "      <td>3</td>\n",
       "    </tr>\n",
       "    <tr>\n",
       "      <th>4</th>\n",
       "      <td>2</td>\n",
       "      <td>2</td>\n",
       "      <td>1</td>\n",
       "      <td>2</td>\n",
       "      <td>1</td>\n",
       "      <td>0</td>\n",
       "      <td>0</td>\n",
       "      <td>0</td>\n",
       "      <td>0</td>\n",
       "      <td>3</td>\n",
       "      <td>0</td>\n",
       "      <td>0</td>\n",
       "      <td>0</td>\n",
       "      <td>4</td>\n",
       "    </tr>\n",
       "  </tbody>\n",
       "</table>\n",
       "</div>"
      ],
      "text/plain": [
       "   MAP  diastolic_bp  systolic_bp  urine  ALT  AST  p_f_ratio  lactic_acid  \\\n",
       "0    3             1            2      2    0    0          0            0   \n",
       "1    2             1            2      2    0    0          1            0   \n",
       "2    3             1            2      2    0    0          0            0   \n",
       "3    0             1            1      2    0    0          1            0   \n",
       "4    2             2            1      2    1    0          0            0   \n",
       "\n",
       "   serum_creatinine  GCS_total  fluid_boluses  vasopressors  PatientID  \\\n",
       "0                 0          3              0             0          0   \n",
       "1                 0          3              0             0          0   \n",
       "2                 0          3              0             0          0   \n",
       "3                 0          3              0             0          0   \n",
       "4                 0          3              0             0          0   \n",
       "\n",
       "   Timepoints  \n",
       "0           0  \n",
       "1           1  \n",
       "2           2  \n",
       "3           3  \n",
       "4           4  "
      ]
     },
     "execution_count": 52,
     "metadata": {},
     "output_type": "execute_result"
    }
   ],
   "source": [
    "processed_df.head()"
   ]
  },
  {
   "cell_type": "code",
   "execution_count": 53,
   "metadata": {},
   "outputs": [
    {
     "name": "stdout",
     "output_type": "stream",
     "text": [
      "[-1, 0, 1, 2, 3]\n",
      "[0, 1, 2, 3]\n",
      "[0, 1, 2, 3, 4]\n",
      "[0, 1, 2]\n",
      "[0, 1, 2, 3]\n",
      "[0, 1, 2]\n",
      "[0, 1, 2]\n",
      "[0, 1, 2, 3]\n",
      "[0, 1, 2, 3]\n",
      "[0, 1, 2, 3]\n",
      "[0, 1, 2, 3]\n"
     ]
    }
   ],
   "source": [
    "print(sorted(processed_df['p_f_ratio'].unique()))\n",
    "print(sorted(processed_df['GCS_total'].unique()))\n",
    "print(sorted(processed_df['serum_creatinine'].unique()))\n",
    "print(sorted(processed_df['lactic_acid'].unique()))\n",
    "print(sorted(processed_df['AST'].unique()))\n",
    "print(sorted(processed_df['urine'].unique()))\n",
    "print(sorted(processed_df['systolic_bp'].unique()))\n",
    "print(sorted(processed_df['diastolic_bp'].unique()))\n",
    "print(sorted(processed_df['MAP'].unique()))\n",
    "print(sorted(processed_df['fluid_boluses'].unique()))\n",
    "print(sorted(processed_df['vasopressors'].unique()))"
   ]
  },
  {
   "cell_type": "code",
   "execution_count": 57,
   "metadata": {},
   "outputs": [],
   "source": [
    "processed_df.to_csv(\"Data/binned_df.csv\")"
   ]
  },
  {
   "cell_type": "code",
   "execution_count": 55,
   "metadata": {},
   "outputs": [
    {
     "name": "stdout",
     "output_type": "stream",
     "text": [
      "11937\n",
      "16\n"
     ]
    }
   ],
   "source": [
    "binned_state_columns = [c for c in processed_df.columns if c not in action_columns]\n",
    "binned_state_columns = [c for c in binned_state_columns if c not in [\"PatientID\", \"Timepoints\"]]\n",
    "num_states = len(processed_df[binned_state_columns].value_counts())\n",
    "num_actions = len(processed_df[action_columns].value_counts())\n",
    "print(num_states)\n",
    "print(num_actions)"
   ]
  },
  {
   "cell_type": "code",
   "execution_count": 56,
   "metadata": {},
   "outputs": [
    {
     "data": {
      "text/plain": [
       "3    96822\n",
       "2    39300\n",
       "1    27322\n",
       "0    24236\n",
       "Name: MAP, dtype: int64"
      ]
     },
     "execution_count": 56,
     "metadata": {},
     "output_type": "execute_result"
    }
   ],
   "source": [
    "processed_df['MAP'].value_counts()"
   ]
  },
  {
   "cell_type": "code",
   "execution_count": null,
   "metadata": {},
   "outputs": [],
   "source": []
  }
 ],
 "metadata": {
  "kernelspec": {
   "display_name": "nlp",
   "language": "python",
   "name": "python3"
  },
  "language_info": {
   "codemirror_mode": {
    "name": "ipython",
    "version": 3
   },
   "file_extension": ".py",
   "mimetype": "text/x-python",
   "name": "python",
   "nbconvert_exporter": "python",
   "pygments_lexer": "ipython3",
   "version": "3.9.16"
  }
 },
 "nbformat": 4,
 "nbformat_minor": 2
}
